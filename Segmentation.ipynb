{
 "cells": [
  {
   "cell_type": "code",
   "execution_count": 1,
   "metadata": {},
   "outputs": [],
   "source": [
    "import numpy as np\n",
    "import cv2\n",
    "import os\n",
    "import math\n",
    "import matplotlib.pyplot as plt"
   ]
  },
  {
   "cell_type": "code",
   "execution_count": 145,
   "metadata": {},
   "outputs": [
    {
     "name": "stdout",
     "output_type": "stream",
     "text": [
      "[ 0 14 17]\n"
     ]
    }
   ],
   "source": [
    "Line = np.array([[0,2,3],[0,5,6],[0,7,8]])\n",
    "\n",
    "Line = np.sum(Line,axis=0)\n",
    "print(Line)\n",
    "\n",
    "#VP = [ int(np.sum(Line[:,j] ) == 0)  for j in range( len(Line[0]) ) ]\n",
    "\n",
    "#print(VP)\n",
    "\n",
    "#G = np.array([1,2,3,4,5,6,7,8,9])\n",
    "#G = G[ G < 5 ]\n",
    "#print(G)"
   ]
  },
  {
   "cell_type": "code",
   "execution_count": 140,
   "metadata": {},
   "outputs": [],
   "source": [
    "# Gaps are whether Gaps between words OR Gaps within sub-word\n",
    "# removing sub-word Gaps\n",
    "def FilterGaps(G,L):\n",
    "    \n",
    "    G = np.array(G)\n",
    "    L = np.array(L)\n",
    "    \n",
    "    IQR = 2\n",
    "    \n",
    "    # Filtering Depending On IQR ( Interquartile Range ) Value\n",
    "    G = G[ L >= IQR ]\n",
    "    L = L[ L >= IQR ]\n",
    "    \n",
    "    Mean = np.mean(L)\n",
    "    G = G[ L >= Mean ]\n",
    "    L = L[ L >= Mean ]\n",
    "    \n",
    "    \n",
    "    return G,L"
   ]
  },
  {
   "cell_type": "code",
   "execution_count": 146,
   "metadata": {},
   "outputs": [],
   "source": [
    "def FindGaps(Line):\n",
    "    \n",
    "    G = []\n",
    "    L = []\n",
    "    \n",
    "    #VP = [ int(np.sum(Line[:,j] ) == 0)  for j in range( len(Line[0]) ) ]\n",
    "    #VP = np.zeros(len(line[0]))\n",
    "    \n",
    "    VP = np.sum(Line,axis=0)\n",
    "    \n",
    "    \n",
    "    \n",
    "    flag = 0\n",
    "    for i in range(len(VP)):\n",
    "        \n",
    "        if VP[i] == 0 :\n",
    "            if flag == 0:\n",
    "                # This is a Gap Start \n",
    "                G.append(i)\n",
    "                L.append(1)\n",
    "                flag = 1\n",
    "            else:\n",
    "                L[-1] +=1\n",
    "            \n",
    "        elif flag == 1:\n",
    "            flag = 0\n",
    "        \n",
    "    \n",
    "    return G,L"
   ]
  },
  {
   "cell_type": "code",
   "execution_count": 138,
   "metadata": {},
   "outputs": [],
   "source": [
    "def WordSegment(Line):\n",
    "    \n",
    "    # G => Array of Gaps, L => Length of each gap\n",
    "    G,L = FindingGaps(Line)\n",
    "    G,L = FilterGaps(G,L)\n",
    "    \n",
    "    # Separete Each Word in a single Image\n",
    "    Words = [ Line[0:,G[i]+L[i]:G[i+1]] for i in range(len(G)-1) ]    \n",
    "    \n",
    "    return Words"
   ]
  },
  {
   "cell_type": "code",
   "execution_count": 147,
   "metadata": {},
   "outputs": [],
   "source": [
    "def ToBinaryImg(Img):\n",
    "    ImgGray = cv2.cvtColor(Img, cv2.COLOR_BGR2GRAY)\n",
    "    BinaryImg = np.array(ImgGray)\n",
    "    BinaryImg[ ImgGray > 127 ] = 0\n",
    "    BinaryImg[ ImgGray <= 127 ] = 255\n",
    "    \n",
    "    return BinaryImg"
   ]
  },
  {
   "cell_type": "code",
   "execution_count": 148,
   "metadata": {},
   "outputs": [],
   "source": [
    "Img = cv2.imread('2.png')\n",
    "BinaryImg = ToBinaryImg(Img)\n",
    "\n",
    "# Segment Words\n",
    "Words = WordSegment(BinaryImg)\n",
    "\n",
    "\n",
    "#for i in range(len(G)):\n",
    "#    Img= cv2.rectangle(Img, (G[1]+L[1]-5,0), (G[1]+L[1]-5,dim[1]), (0,255,0), 2)\n",
    "\n",
    "for x in Words[::-1]:\n",
    "    cv2.imshow('Test Image',x)\n",
    "    cv2.waitKey(0)\n",
    "    cv2.destroyAllWindows()\n",
    "#print(blackAndWhiteImage)\n"
   ]
  }
 ],
 "metadata": {
  "kernelspec": {
   "display_name": "Python 3",
   "language": "python",
   "name": "python3"
  },
  "language_info": {
   "codemirror_mode": {
    "name": "ipython",
    "version": 3
   },
   "file_extension": ".py",
   "mimetype": "text/x-python",
   "name": "python",
   "nbconvert_exporter": "python",
   "pygments_lexer": "ipython3",
   "version": "3.7.3"
  }
 },
 "nbformat": 4,
 "nbformat_minor": 2
}
