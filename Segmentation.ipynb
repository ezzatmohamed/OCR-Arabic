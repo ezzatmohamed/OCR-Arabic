{
 "cells": [
  {
   "cell_type": "code",
   "execution_count": 1,
   "metadata": {},
   "outputs": [],
   "source": [
    "import numpy as np\n",
    "import cv2\n",
    "import os\n",
    "import math\n",
    "import matplotlib.pyplot as plt\n",
    "import skimage.morphology\n",
    "from skimage import img_as_ubyte\n"
   ]
  },
  {
   "cell_type": "code",
   "execution_count": 2,
   "metadata": {},
   "outputs": [],
   "source": [
    "# Gaps are whether Gaps between words OR Gaps within sub-word\n",
    "# removing sub-word Gaps\n",
    "def FilterGaps(G,L):\n",
    "    \n",
    "    G = np.array(G)\n",
    "    L = np.array(L)\n",
    "    \n",
    "    IQR = 2\n",
    "    \n",
    "    # Filtering Depending On IQR ( Interquartile Range ) Value\n",
    "    G = G[ L >= IQR ]\n",
    "    L = L[ L >= IQR ]\n",
    "    \n",
    "    Mean = np.mean(L)\n",
    "    G = G[ L >= Mean ]\n",
    "    L = L[ L >= Mean ]\n",
    "    \n",
    "    \n",
    "    return G,L"
   ]
  },
  {
   "cell_type": "code",
   "execution_count": 3,
   "metadata": {},
   "outputs": [],
   "source": [
    "def FindGaps(Line):\n",
    "    \n",
    "    G = []\n",
    "    L = []\n",
    "\n",
    "    # Vertical Projection Of the text\n",
    "    VP = np.sum(Line,axis=0)    \n",
    "    flag = 0\n",
    "    for i in range(len(VP)):\n",
    "        \n",
    "        if VP[i] == 0 :\n",
    "            if flag == 0:\n",
    "                # This is a Gap Start \n",
    "                G.append(i)\n",
    "                L.append(1)\n",
    "                flag = 1\n",
    "            else:\n",
    "                # Increment Gap Length\n",
    "                L[-1] +=1\n",
    "            \n",
    "        \n",
    "        elif flag == 1:\n",
    "            # End of The Gap\n",
    "            flag = 0\n",
    "        \n",
    "    \n",
    "    return G,L"
   ]
  },
  {
   "cell_type": "code",
   "execution_count": 4,
   "metadata": {},
   "outputs": [],
   "source": [
    "def WordSegment(Line):\n",
    "    \n",
    "    # G => Array of Gaps, L => Length of each gap\n",
    "    G,L = FindGaps(Line)\n",
    "    G,L = FilterGaps(G,L)\n",
    "    \n",
    "    # Separete Each Word in a single Image\n",
    "    Words = [ Line[0:,G[i]+L[i]:G[i+1]] for i in range(len(G)-1) ]    \n",
    "    \n",
    "    return Words"
   ]
  },
  {
   "cell_type": "code",
   "execution_count": 5,
   "metadata": {},
   "outputs": [],
   "source": [
    "def ToBinaryImg(Img):\n",
    "    ImgGray = cv2.cvtColor(Img, cv2.COLOR_BGR2GRAY)\n",
    "    BinaryImg = np.array(ImgGray)\n",
    "    BinaryImg[ ImgGray > 127 ] = 0\n",
    "    BinaryImg[ ImgGray <= 127 ] = 255\n",
    "    \n",
    "    return BinaryImg"
   ]
  },
  {
   "cell_type": "code",
   "execution_count": 19,
   "metadata": {},
   "outputs": [],
   "source": [
    "def MaxTrans(Line,Baseline):\n",
    "    \n",
    "    MaxIdx   = 0\n",
    "    MaxVal   = 0\n",
    "    \n",
    "    for i in range(0,Baseline):\n",
    "        Trans = 0\n",
    "        for k in range(1, len(Line[i]) ) :\n",
    "            if Line[i][k] != Line[i][k-1]:\n",
    "                Trans +=1\n",
    "        if Trans > MaxVal:\n",
    "            MaxVal = Trans\n",
    "            MaxIdx = i\n",
    "    \n",
    "    MTI = []\n",
    "    for k in range(1, len(Line[MaxIdx]) ):\n",
    "        if Line[MaxIdx][k] != Line[MaxIdx][k-1]:\n",
    "            MTI.append(k)\n",
    "    \n",
    "    return MaxIdx,np.array(MTI)"
   ]
  },
  {
   "cell_type": "code",
   "execution_count": 7,
   "metadata": {},
   "outputs": [],
   "source": [
    "def DetectBaseline(Line):\n",
    "    ThinnedImg = skimage.morphology.thin(Line)\n",
    "    ThinnedImg = img_as_ubyte(ThinnedImg)\n",
    "    \n",
    "    HP = ThinnedImg\n",
    "    \n",
    "    Baseline  = np.array( np.sum(ThinnedImg,axis=1) )\n",
    "    BaseIndex = np.argmax(Baseline) \n",
    "    \n",
    "    return BaseIndex+2\n",
    "    \n",
    "    cv2.imshow('Test Image',Line)\n",
    "    cv2.waitKey(0)\n",
    "    cv2.destroyAllWindows()\n",
    "    cv2.imshow('Test Image',ThinnedImg)\n",
    "    cv2.waitKey(0)\n",
    "    cv2.destroyAllWindows()\n",
    "    "
   ]
  },
  {
   "cell_type": "code",
   "execution_count": 20,
   "metadata": {},
   "outputs": [],
   "source": [
    "def DetectCutPoints(Line):\n",
    "    pass \n",
    "    "
   ]
  },
  {
   "cell_type": "code",
   "execution_count": 17,
   "metadata": {},
   "outputs": [
    {
     "data": {
      "text/plain": [
       "True"
      ]
     },
     "execution_count": 17,
     "metadata": {},
     "output_type": "execute_result"
    }
   ],
   "source": [
    "Img = cv2.imread('3.png')\n",
    "dim = Img.shape\n",
    "\n",
    "BinaryImg = ToBinaryImg(Img)\n",
    "\n",
    "# Segment Words\n",
    "Words = WordSegment(BinaryImg)\n",
    "\n",
    "\n",
    "BaseIndex   = DetectBaseline(BinaryImg)\n",
    "MaxTransIdx,MTI = MaxTrans(BinaryImg,BaseIndex)   \n",
    "\n",
    "#Img = cv2.rectangle(Img,(0,BaseIndex),(dim[1],BaseIndex),(0,255,0),1)\n",
    "Img = cv2.rectangle(Img,(0,MaxTransIdx),(dim[1],MaxTransIdx),(0,255,0),1)\n",
    "\n",
    "cv2.imshow('BaseLine',Img)\n",
    "cv2.waitKey(0)\n",
    "cv2.destroyAllWindows()\n",
    "\n",
    "cv2.imwrite('res1.jpg',Img)\n",
    "\n",
    "#for i in range(len(G)):\n",
    "#    Img= cv2.rectangle(Img, (G[1]+L[1]-5,0), (G[1]+L[1]-5,dim[1]), (0,255,0), 2)\n",
    "\n",
    "#for x in Words[::-1]:\n",
    "#    cv2.imshow('Test Image',x)\n",
    "#    cv2.waitKey(0)\n",
    "#    cv2.destroyAllWindows()\n",
    "#print(blackAndWhiteImage)\n"
   ]
  },
  {
   "cell_type": "code",
   "execution_count": 21,
   "metadata": {},
   "outputs": [],
   "source": [
    "#For Code Testing\n",
    "\n",
    "\n",
    "#Line = np.array([[0,2,3],[0,5,6],[0,7,8]])\n",
    "#Line = np.sum(Line,axis=1)\n",
    "#print(Line)\n",
    "\n",
    "#VP = [ int(np.sum(Line[:,j] ) == 0)  for j in range( len(Line[0]) ) ]\n",
    "\n",
    "#print(VP)\n",
    "\n",
    "#x = np.array([1,1,1,0,0,1,1,1,0])\n",
    "\n",
    "#(~x[:-1] & x[1:]).sum()\n",
    "#np.count_nonzero(~x[:-1] & x[1:])\n",
    "\n",
    "\n",
    "#G = np.array([1,2,3,4,5,6,7,8,9])\n",
    "#G = G[ G < 5 ]\n",
    "#print(G)\n",
    "#skimage.morphology.thin"
   ]
  }
 ],
 "metadata": {
  "kernelspec": {
   "display_name": "Python 3",
   "language": "python",
   "name": "python3"
  },
  "language_info": {
   "codemirror_mode": {
    "name": "ipython",
    "version": 3
   },
   "file_extension": ".py",
   "mimetype": "text/x-python",
   "name": "python",
   "nbconvert_exporter": "python",
   "pygments_lexer": "ipython3",
   "version": "3.7.3"
  }
 },
 "nbformat": 4,
 "nbformat_minor": 2
}
