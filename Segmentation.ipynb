{
 "cells": [
  {
   "cell_type": "code",
   "execution_count": 1,
   "metadata": {},
   "outputs": [],
   "source": [
    "import numpy as np\n",
    "import cv2\n",
    "import os\n",
    "import math\n",
    "import matplotlib.pyplot as plt"
   ]
  },
  {
   "cell_type": "code",
   "execution_count": 79,
   "metadata": {},
   "outputs": [
    {
     "name": "stdout",
     "output_type": "stream",
     "text": [
      "[1 2 3 4]\n"
     ]
    }
   ],
   "source": [
    "#Line = np.array([[0,2,3],[0,5,6],[0,7,8]])\n",
    "\n",
    "#VP = [ int(np.sum(Line[:,j] ) == 0)  for j in range( len(Line[0]) ) ]\n",
    "\n",
    "#print(VP)\n",
    "\n",
    "G = np.array([1,2,3,4,5,6,7,8,9])\n",
    "G = G[ G < 5 ]\n",
    "print(G)"
   ]
  },
  {
   "cell_type": "code",
   "execution_count": 99,
   "metadata": {},
   "outputs": [],
   "source": [
    "def FilterGaps(G,L):\n",
    "    \n",
    "    G = np.array(G)\n",
    "    L = np.array(L)\n",
    "    \n",
    "    IQR = 2\n",
    "    \n",
    "    G = G[ L >= IQR ]\n",
    "    L = L[ L >= IQR ]\n",
    "    \n",
    "    Mean = np.mean(L)\n",
    "    G = G[ L >= Mean ]\n",
    "    L = L[ L >= Mean ]\n",
    "    \n",
    "    \n",
    "    return G,L"
   ]
  },
  {
   "cell_type": "code",
   "execution_count": 71,
   "metadata": {},
   "outputs": [],
   "source": [
    "def FindGaps(Line):\n",
    "    \n",
    "    G = []\n",
    "    L = []\n",
    "    \n",
    "    #VP = np.zeros(len(Line[0]))\n",
    "    \n",
    "    VP = [ int(np.sum(Line[:,j] ) == 0)  for j in range( len(Line[0]) ) ]\n",
    "    #print(VP)\n",
    "    flag = 0\n",
    "    for i in range(len(VP)):\n",
    "        \n",
    "        if VP[i] == 1 :\n",
    "            if flag == 0:\n",
    "                # This is a Gap Start \n",
    "                G.append(i)\n",
    "                L.append(1)\n",
    "                flag = 1\n",
    "            else:\n",
    "                L[-1] +=1\n",
    "            \n",
    "        elif flag == 1:\n",
    "            flag = 0\n",
    "        \n",
    "    \n",
    "    return G,L"
   ]
  },
  {
   "cell_type": "code",
   "execution_count": 12,
   "metadata": {},
   "outputs": [],
   "source": [
    "def WordSegmentation(Line):\n",
    "    \n",
    "    # array of Gaps\n",
    "    # Length of each gap\n",
    "    G,L = FindingGaps(Line)\n",
    "    Words = []\n",
    "    \n",
    "    for i in range(len(G)):\n",
    "        \n",
    "        \n",
    "    \n",
    "    return Words"
   ]
  },
  {
   "cell_type": "code",
   "execution_count": 103,
   "metadata": {},
   "outputs": [
    {
     "name": "stdout",
     "output_type": "stream",
     "text": [
      "[12  8  8  8  9  8  9  7  8  7  8  7  9  7 18]\n"
     ]
    }
   ],
   "source": [
    "Img = cv2.imread('2.png')\n",
    "image_gray = cv2.cvtColor(Img, cv2.COLOR_BGR2GRAY)\n",
    "\n",
    "BinaryImg = np.array(image_gray)\n",
    "\n",
    "BinaryImg[ image_gray > 127 ] = 0\n",
    "BinaryImg[ image_gray <= 127 ] = 255\n",
    "\n",
    "dim = image_gray.shape\n",
    "\n",
    "G,L = FindGaps(BinaryImg)\n",
    "G,L = FilterGaps(G,L)\n",
    "print(L)\n",
    "\n",
    "for i in range(len(G)):\n",
    "    Img= cv2.rectangle(Img, (G[i]+L[i]-5,0), (G[i]+L[i]-5,dim[1]), (0,255,0), 2)\n",
    "\n",
    "cv2.imshow('Test Image',Img)\n",
    "cv2.waitKey(0)\n",
    "cv2.destroyAllWindows()\n",
    "#print(blackAndWhiteImage)\n"
   ]
  }
 ],
 "metadata": {
  "kernelspec": {
   "display_name": "Python 3",
   "language": "python",
   "name": "python3"
  },
  "language_info": {
   "codemirror_mode": {
    "name": "ipython",
    "version": 3
   },
   "file_extension": ".py",
   "mimetype": "text/x-python",
   "name": "python",
   "nbconvert_exporter": "python",
   "pygments_lexer": "ipython3",
   "version": "3.7.3"
  }
 },
 "nbformat": 4,
 "nbformat_minor": 2
}
